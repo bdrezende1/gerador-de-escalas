{
  "nbformat": 4,
  "nbformat_minor": 0,
  "metadata": {
    "colab": {
      "provenance": [],
      "authorship_tag": "ABX9TyO4ga0eJotdvc4nsOHRzuZu"
    },
    "kernelspec": {
      "name": "python3",
      "display_name": "Python 3"
    },
    "language_info": {
      "name": "python"
    }
  },
  "cells": [
    {
      "cell_type": "code",
      "execution_count": 1,
      "metadata": {
        "colab": {
          "base_uri": "https://localhost:8080/",
          "height": 981
        },
        "id": "H0PiyknGATM8",
        "outputId": "08035da9-2de0-4b85-f1a9-e046c68bf157"
      },
      "outputs": [
        {
          "output_type": "stream",
          "name": "stdout",
          "text": [
            "+---------------------------------------+\n",
            "|    GERADOR DE ESCALAS DE TRABALHO PRESENCIAL       |\n",
            "+---------------------------------------+\n",
            "Quantas plantões presenciais serão realizadas no mês? : 8\n",
            "Informe a Data do 1º plantão: 23\n",
            "Informe a Data do 2º plantão: 01\n",
            "Informe a Data do 3º plantão: 08\n",
            "Informe a Data do 4º plantão: 10\n",
            "Informe a Data do 5º plantão: 12\n",
            "Informe a Data do 6º plantão: 16\n",
            "Informe a Data do 7º plantão: 18\n",
            "Informe a Data do 8º plantão: 22\n",
            "\n",
            "Escala de plantão dia 23\n",
            "Plantonistas : Bruno, Gabriel, Danilo\n",
            "\n",
            "Escala de plantão dia 01\n",
            "Plantonistas : Margarete, Guilherme, Solange\n",
            "\n",
            "Escala de plantão dia 08\n",
            "Plantonistas : Guilherme, Wesley, Vitorino\n",
            "\n",
            "Escala de plantão dia 10\n",
            "Plantonistas : Wesley, Tatiana, Victor\n",
            "\n",
            "Escala de plantão dia 12\n",
            "Plantonistas : Paula, Wesley, Danilo\n",
            "\n",
            "Escala de plantão dia 16\n",
            "Plantonistas : Luiz, Victor, Bruno\n",
            "\n",
            "Escala de plantão dia 18\n",
            "Plantonistas : Gabriel, Maria, Tatiana\n",
            "\n",
            "Escala de plantão dia 22\n",
            "Plantonistas : Solange, Margarete, Paula\n"
          ]
        },
        {
          "output_type": "error",
          "ename": "KeyboardInterrupt",
          "evalue": "Interrupted by user",
          "traceback": [
            "\u001b[0;31m---------------------------------------------------------------------------\u001b[0m",
            "\u001b[0;31mKeyboardInterrupt\u001b[0m                         Traceback (most recent call last)",
            "\u001b[0;32m<ipython-input-1-6798f8c7c988>\u001b[0m in \u001b[0;36m<cell line: 0>\u001b[0;34m()\u001b[0m\n\u001b[1;32m     33\u001b[0m             \u001b[0mprint\u001b[0m\u001b[0;34m(\u001b[0m\u001b[0;34mf\"Plantonistas : {resultado}\"\u001b[0m\u001b[0;34m)\u001b[0m\u001b[0;34m\u001b[0m\u001b[0;34m\u001b[0m\u001b[0m\n\u001b[1;32m     34\u001b[0m \u001b[0;34m\u001b[0m\u001b[0m\n\u001b[0;32m---> 35\u001b[0;31m     \u001b[0mcontinua\u001b[0m \u001b[0;34m=\u001b[0m \u001b[0minput\u001b[0m\u001b[0;34m(\u001b[0m\u001b[0;34m\"\\n\\nContinuar a gerar escalas? (S/N): \"\u001b[0m\u001b[0;34m)\u001b[0m\u001b[0;34m\u001b[0m\u001b[0;34m\u001b[0m\u001b[0m\n\u001b[0m\u001b[1;32m     36\u001b[0m     \u001b[0;32mif\u001b[0m \u001b[0mcontinua\u001b[0m \u001b[0;34m==\u001b[0m \u001b[0;34m\"S\"\u001b[0m \u001b[0;32mor\u001b[0m \u001b[0mcontinua\u001b[0m \u001b[0;34m==\u001b[0m\u001b[0;34m\"s\"\u001b[0m\u001b[0;34m:\u001b[0m\u001b[0;34m\u001b[0m\u001b[0;34m\u001b[0m\u001b[0m\n\u001b[1;32m     37\u001b[0m         \u001b[0mlimpa_tela\u001b[0m\u001b[0;34m(\u001b[0m\u001b[0;34m)\u001b[0m\u001b[0;34m\u001b[0m\u001b[0;34m\u001b[0m\u001b[0m\n",
            "\u001b[0;32m/usr/local/lib/python3.11/dist-packages/ipykernel/kernelbase.py\u001b[0m in \u001b[0;36mraw_input\u001b[0;34m(self, prompt)\u001b[0m\n\u001b[1;32m    849\u001b[0m                 \u001b[0;34m\"raw_input was called, but this frontend does not support input requests.\"\u001b[0m\u001b[0;34m\u001b[0m\u001b[0;34m\u001b[0m\u001b[0m\n\u001b[1;32m    850\u001b[0m             )\n\u001b[0;32m--> 851\u001b[0;31m         return self._input_request(str(prompt),\n\u001b[0m\u001b[1;32m    852\u001b[0m             \u001b[0mself\u001b[0m\u001b[0;34m.\u001b[0m\u001b[0m_parent_ident\u001b[0m\u001b[0;34m,\u001b[0m\u001b[0;34m\u001b[0m\u001b[0;34m\u001b[0m\u001b[0m\n\u001b[1;32m    853\u001b[0m             \u001b[0mself\u001b[0m\u001b[0;34m.\u001b[0m\u001b[0m_parent_header\u001b[0m\u001b[0;34m,\u001b[0m\u001b[0;34m\u001b[0m\u001b[0;34m\u001b[0m\u001b[0m\n",
            "\u001b[0;32m/usr/local/lib/python3.11/dist-packages/ipykernel/kernelbase.py\u001b[0m in \u001b[0;36m_input_request\u001b[0;34m(self, prompt, ident, parent, password)\u001b[0m\n\u001b[1;32m    893\u001b[0m             \u001b[0;32mexcept\u001b[0m \u001b[0mKeyboardInterrupt\u001b[0m\u001b[0;34m:\u001b[0m\u001b[0;34m\u001b[0m\u001b[0;34m\u001b[0m\u001b[0m\n\u001b[1;32m    894\u001b[0m                 \u001b[0;31m# re-raise KeyboardInterrupt, to truncate traceback\u001b[0m\u001b[0;34m\u001b[0m\u001b[0;34m\u001b[0m\u001b[0m\n\u001b[0;32m--> 895\u001b[0;31m                 \u001b[0;32mraise\u001b[0m \u001b[0mKeyboardInterrupt\u001b[0m\u001b[0;34m(\u001b[0m\u001b[0;34m\"Interrupted by user\"\u001b[0m\u001b[0;34m)\u001b[0m \u001b[0;32mfrom\u001b[0m \u001b[0;32mNone\u001b[0m\u001b[0;34m\u001b[0m\u001b[0;34m\u001b[0m\u001b[0m\n\u001b[0m\u001b[1;32m    896\u001b[0m             \u001b[0;32mexcept\u001b[0m \u001b[0mException\u001b[0m \u001b[0;32mas\u001b[0m \u001b[0me\u001b[0m\u001b[0;34m:\u001b[0m\u001b[0;34m\u001b[0m\u001b[0;34m\u001b[0m\u001b[0m\n\u001b[1;32m    897\u001b[0m                 \u001b[0mself\u001b[0m\u001b[0;34m.\u001b[0m\u001b[0mlog\u001b[0m\u001b[0;34m.\u001b[0m\u001b[0mwarning\u001b[0m\u001b[0;34m(\u001b[0m\u001b[0;34m\"Invalid Message:\"\u001b[0m\u001b[0;34m,\u001b[0m \u001b[0mexc_info\u001b[0m\u001b[0;34m=\u001b[0m\u001b[0;32mTrue\u001b[0m\u001b[0;34m)\u001b[0m\u001b[0;34m\u001b[0m\u001b[0;34m\u001b[0m\u001b[0m\n",
            "\u001b[0;31mKeyboardInterrupt\u001b[0m: Interrupted by user"
          ]
        }
      ],
      "source": [
        "#Gerador de Escalas de Plantão para SF\n",
        "\n",
        "import random\n",
        "import shutil\n",
        "\n",
        "def limpa_tela():\n",
        "    print(\"\\n\" * shutil.get_terminal_size().lines)\n",
        "\n",
        "while True:\n",
        "    print(\"+---------------------------------------+\")\n",
        "    print(\"|    GERADOR DE ESCALAS DE TRABALHO PRESENCIAL       |\")\n",
        "    print(\"+---------------------------------------+\")\n",
        "\n",
        "    qtdePlantoes = int(input(\"Quantas plantões presenciais serão realizadas no mês? : \"))\n",
        "\n",
        "    diaPlantao = []\n",
        "    for i in range(qtdePlantoes):\n",
        "        dataPlantao = input(\"Informe a Data do {}º plantão: \".format(i+1))\n",
        "        diaPlantao.append(dataPlantao)\n",
        "\n",
        "    listaPlantonistas= [\"Guilherme\",\"Margarete\",\"Paula\",\"Solange\",\"Victor\",\"Luiz\",\"Raquel\",\"Tatiana\",\"Bruno\",\"Gabriel\",\"Wesley\",\"Danilo\",\"Maria\",\"Marly\",\"Vitorino\"]\n",
        "    listaPlantonistas1= []\n",
        "    listaPlantonistas2= []\n",
        "    random.shuffle(listaPlantonistas)\n",
        "\n",
        "    for i in range(qtdePlantoes):\n",
        "        lista = listaPlantonistas\n",
        "        random.shuffle(lista)\n",
        "\n",
        "        print(f\"\\nEscala de plantão dia {diaPlantao[i]}\")\n",
        "        for c in range(1):\n",
        "            resultado = \", \".join(random.sample(lista,3))\n",
        "            print(f\"Plantonistas : {resultado}\")\n",
        "\n",
        "    continua = input(\"\\n\\nContinuar a gerar escalas? (S/N): \")\n",
        "    if continua == \"S\" or continua ==\"s\":\n",
        "        limpa_tela()\n",
        "    elif continua == \"N\" or continua == \"n\":\n",
        "        limpa_tela()\n",
        "        break"
      ]
    }
  ]
}