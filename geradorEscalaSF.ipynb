{
  "nbformat": 4,
  "nbformat_minor": 0,
  "metadata": {
    "colab": {
      "provenance": [],
      "authorship_tag": "ABX9TyPsUxyz363cQuUkigmWh/2o",
      "include_colab_link": true
    },
    "kernelspec": {
      "name": "python3",
      "display_name": "Python 3"
    },
    "language_info": {
      "name": "python"
    }
  },
  "cells": [
    {
      "cell_type": "markdown",
      "metadata": {
        "id": "view-in-github",
        "colab_type": "text"
      },
      "source": [
        "<a href=\"https://colab.research.google.com/github/brezende1/gerador-de-escalas/blob/main/geradorEscalaSF.ipynb\" target=\"_parent\"><img src=\"https://colab.research.google.com/assets/colab-badge.svg\" alt=\"Open In Colab\"/></a>"
      ]
    },
    {
      "cell_type": "code",
      "execution_count": 1,
      "metadata": {
        "colab": {
          "base_uri": "https://localhost:8080/"
        },
        "id": "H0PiyknGATM8",
        "outputId": "bbf209a2-4c3d-4bdf-9c08-ea0c556bed11"
      },
      "outputs": [
        {
          "output_type": "stream",
          "name": "stdout",
          "text": [
            "+---------------------------------------+\n",
            "|    GERADOR DE ESCALAS DE TRABALHO PRESENCIAL       |\n",
            "+---------------------------------------+\n",
            "Quantas plantões presenciais serão realizadas no mês? : 3\n",
            "Informe a Data do 1º plantão: 1\n",
            "Informe a Data do 2º plantão: 2\n",
            "Informe a Data do 3º plantão: 3\n",
            "\n",
            "Escala de plantão dia 1\n",
            "Plantonistas : Tatiana, Raquel, Paula\n",
            "\n",
            "Escala de plantão dia 2\n",
            "Plantonistas : Solange, Guilherme, Raquel\n",
            "\n",
            "Escala de plantão dia 3\n",
            "Plantonistas : Luiz, Paula, Guilherme\n",
            "\n",
            "\n",
            "Continuar a gerar escalas? (S/N): n\n",
            "\n",
            "\n",
            "\n",
            "\n",
            "\n",
            "\n",
            "\n",
            "\n",
            "\n",
            "\n",
            "\n",
            "\n",
            "\n",
            "\n",
            "\n",
            "\n",
            "\n",
            "\n",
            "\n",
            "\n",
            "\n",
            "\n",
            "\n",
            "\n",
            "\n"
          ]
        }
      ],
      "source": [
        "#Gerador de Escalas de Plantão para SF\n",
        "\n",
        "import random\n",
        "import shutil\n",
        "\n",
        "def limpa_tela():\n",
        "    print(\"\\n\" * shutil.get_terminal_size().lines)\n",
        "\n",
        "while True:\n",
        "    print(\"+---------------------------------------+\")\n",
        "    print(\"|    GERADOR DE ESCALAS DE TRABALHO PRESENCIAL       |\")\n",
        "    print(\"+---------------------------------------+\")\n",
        "\n",
        "    qtdePlantoes = int(input(\"Quantas plantões presenciais serão realizadas no mês? : \"))\n",
        "\n",
        "    diaPlantao = []\n",
        "    for i in range(qtdePlantoes):\n",
        "        dataPlantao = input(\"Informe a Data do {}º plantão: \".format(i+1))\n",
        "        diaPlantao.append(dataPlantao)\n",
        "\n",
        "    listaPlantonistas= [\"Guilherme\",\"Margarete\",\"Paula\",\"Solange\",\"Victor\",\"Luiz\",\"Raquel\",\"Tatiana\"]\n",
        "    listaPlantonistas1= [\"Bruno\",\"Gabriel\",\"Wesley\",\"Danilo\",\"Maria\"]\n",
        "    listaPlantonistas2= [\"Marly\",\"Vitorino\"]\n",
        "    random.shuffle(listaPlantonistas)\n",
        "\n",
        "    for i in range(qtdePlantoes):\n",
        "        lista = listaPlantonistas\n",
        "        random.shuffle(lista)\n",
        "\n",
        "        print(f\"\\nEscala de plantão dia {diaPlantao[i]}\")\n",
        "        for c in range(1):\n",
        "            resultado = \", \".join(random.sample(lista,3))\n",
        "            print(f\"Plantonistas : {resultado}\")\n",
        "\n",
        "    continua = input(\"\\n\\nContinuar a gerar escalas? (S/N): \")\n",
        "    if continua == \"S\" or continua ==\"s\":\n",
        "        limpa_tela()\n",
        "    elif continua == \"N\" or continua == \"n\":\n",
        "        limpa_tela()\n",
        "        break"
      ]
    }
  ]
}